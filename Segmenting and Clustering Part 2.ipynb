{
    "cells": [
        {
            "cell_type": "code",
            "execution_count": 1,
            "metadata": {},
            "outputs": [],
            "source": "import pandas as pd"
        },
        {
            "cell_type": "code",
            "execution_count": 2,
            "metadata": {},
            "outputs": [],
            "source": "url = 'http://cocl.us/Geospatial_data'\ndfgeo =pd.read_csv(url)"
        },
        {
            "cell_type": "code",
            "execution_count": 3,
            "metadata": {},
            "outputs": [
                {
                    "data": {
                        "text/html": "<div>\n<style scoped>\n    .dataframe tbody tr th:only-of-type {\n        vertical-align: middle;\n    }\n\n    .dataframe tbody tr th {\n        vertical-align: top;\n    }\n\n    .dataframe thead th {\n        text-align: right;\n    }\n</style>\n<table border=\"1\" class=\"dataframe\">\n  <thead>\n    <tr style=\"text-align: right;\">\n      <th></th>\n      <th>Postal Code</th>\n      <th>Latitude</th>\n      <th>Longitude</th>\n    </tr>\n  </thead>\n  <tbody>\n    <tr>\n      <th>0</th>\n      <td>M1B</td>\n      <td>43.806686</td>\n      <td>-79.194353</td>\n    </tr>\n    <tr>\n      <th>1</th>\n      <td>M1C</td>\n      <td>43.784535</td>\n      <td>-79.160497</td>\n    </tr>\n    <tr>\n      <th>2</th>\n      <td>M1E</td>\n      <td>43.763573</td>\n      <td>-79.188711</td>\n    </tr>\n    <tr>\n      <th>3</th>\n      <td>M1G</td>\n      <td>43.770992</td>\n      <td>-79.216917</td>\n    </tr>\n    <tr>\n      <th>4</th>\n      <td>M1H</td>\n      <td>43.773136</td>\n      <td>-79.239476</td>\n    </tr>\n  </tbody>\n</table>\n</div>",
                        "text/plain": "  Postal Code   Latitude  Longitude\n0         M1B  43.806686 -79.194353\n1         M1C  43.784535 -79.160497\n2         M1E  43.763573 -79.188711\n3         M1G  43.770992 -79.216917\n4         M1H  43.773136 -79.239476"
                    },
                    "execution_count": 3,
                    "metadata": {},
                    "output_type": "execute_result"
                }
            ],
            "source": "dfgeo.head()"
        },
        {
            "cell_type": "code",
            "execution_count": 4,
            "metadata": {},
            "outputs": [
                {
                    "data": {
                        "text/plain": "(103, 3)"
                    },
                    "execution_count": 4,
                    "metadata": {},
                    "output_type": "execute_result"
                }
            ],
            "source": "dfgeo.shape"
        },
        {
            "cell_type": "code",
            "execution_count": 5,
            "metadata": {},
            "outputs": [
                {
                    "name": "stdout",
                    "output_type": "stream",
                    "text": "['[Postal Code\\n, Community\\n, Neighbourhood\\n, Canadian postal codes\\n]']\n77\n"
                },
                {
                    "name": "stderr",
                    "output_type": "stream",
                    "text": "/opt/conda/envs/Python36/lib/python3.6/site-packages/pandas/core/indexes/base.py:3968: FutureWarning: Using a non-tuple sequence for multidimensional indexing is deprecated; use `arr[tuple(seq)]` instead of `arr[seq]`. In the future this will be interpreted as an array index, `arr[np.array(seq)]`, which will result either in an error or a different result.\n  result = getitem(key)\n"
                }
            ],
            "source": "import requests\nimport pandas as pd\nimport numpy as np\nfrom bs4 import BeautifulSoup\nimport requests\nimport pandas as pd\nimport numpy as np\nfrom bs4 import BeautifulSoup\nURL = 'https://en.wikipedia.org/wiki/List_of_postal_codes_of_Canada:_M'\n\npage = requests.get(URL)\n\nsoup = BeautifulSoup(page.content, 'html.parser')\nrows = soup.find_all('tr')\nfor row in rows:\n    row_td = row.find_all('td')\nstr_cells = str(row_td)\ncleantext = BeautifulSoup(str_cells, 'html.parser').get_text()\nimport re\n\nlist_rows = []\nfor row in rows:\n    cells = row.find_all('td')\n    str_cells = str(cells)\n    clean = re.compile('<.*?>')\n    clean2 = (re.sub(clean, '',str_cells))\n    list_rows.append(clean2)\ndf = pd.DataFrame(list_rows)\ndf.head(10)\ndf1 = df[0].str.split(',', expand=True)\ndf1.head(10)\ndf1[0] = df1[0].str.strip('[')\ndf1.head(10)\ndf1[0] = df1[0].str.strip('\\n')\ndf1.head()\ndf1[1] = df1[1].str.strip('\\n')\ndf1[2] = df1[2].str.strip('\\n]')\ndf1.head()\ncol_labels = soup.find_all('th')\nall_header = []\ncol_str = str(col_labels)\ncleantext2 = BeautifulSoup(col_str, 'html.parser').get_text()\nall_header.append(cleantext2)\nprint(all_header)\ndf2 = pd.DataFrame(all_header)\ndf2.head()\ndf3 = df2[0].str.split(',', expand=True)\ndf3.head()\nframes = [df3, df1]\ndf4 = pd.concat(frames)\ndf4.head()\ndf5 = df4.rename(columns=df4.iloc[0])\ndf5.head()\ndf5.shape\ndf5.drop(df5.iloc[:, 3:30], inplace = True, axis = 1)   \ndf5.head()\ndf5.describe()\ndf5.shape\ndf6 = df5.dropna(axis=0, how='any')\ndf6.head()\ndf6.shape\ndf7 = df6.drop(df6.index[0])\ndf7.head()\ndf7.rename(columns={'[Postal Code\\n': 'Postal Code'},inplace=True)\ndf7.rename(columns={' Community\\n': 'Borough'},inplace=True)\ndf7.rename(columns={' Neighbourhood\\n': 'Neighbourhood'},inplace=True)\ndf7.head()\ndf7.tail()\ndf7 = df7.drop([182, 183, 184])\ndf7.tail()\ndf7.reset_index(drop=True, inplace=True)\ndf7.shape\nindexdf = []\nfor i in range(len(df7)):\n    if df7.iloc[i,1]==' Not assigned':\n        indexdf.append(i)\nprint(len(indexdf))\ndf8 = df7.drop(df7.index[[indexdf]])\ndf8.head(10)\ndf8.shape\ndf8.reset_index(drop=True,inplace=True)\ndf8.head()\nfor i in range(len(df8)):\n    if df8.iloc[i,2]==' Not assigned':\n        df8.iloc[i,2]=df8.iloc[i,1]\ndf8.shape\ndf8.head()\ndf8.shape\ndf81= df8\ndf91 = pd.DataFrame(columns=['Postal Code', 'Borough', 'Neighbourhood'])\n\n\nfor i in range(len(df81)):\n    \n    \n    count1=0\n    sw1=0\n    sw2=0\n    \n    j= (i+1)\n   \n    for j in range(j,len(df81)):\n            if df81.iloc[i,0]==df81.iloc[j,0]:\n                string_neigh=df8.iloc[i,2]+\",\"+df8.iloc[j,2]\n                sw1=1\n                count1=count1+1\n                df81.iloc[j,0] = \"\"\n                    \n            if df81.iloc[i,0] != df81.iloc[j,0]:\n                sw2=1\n                sw1=0\n                        \n    if sw1==0 and sw2==1:\n        if count1==0:\n            df91= df91.append({'Postal Code':df8.iloc[i,0], 'Borough':df8.iloc[i,1], 'Neighbourhood':df8.iloc[i,2]}, ignore_index=True)\n                     \n    if sw1==1 and sw2==1:\n        if count1>0:\n            df91= df91.append({'Postal Code':df8.iloc[i,0], 'Borough':df8.iloc[i,1], 'Neighbourhood':string_neigh}, ignore_index=True)\n            \n    if sw1==0 and sw2==1:\n        if count1>0:\n            df91= df91.append({'Postal Code':df8.iloc[i,0], 'Borough':df8.iloc[i,1], 'Neighbourhood':string_neigh}, ignore_index=True)  \n            \n    if df81.iloc[i,0]==\"\":\n        count2=len(df91)-1\n        df91=df91.drop(df91.index[count2])\n"
        },
        {
            "cell_type": "code",
            "execution_count": 6,
            "metadata": {},
            "outputs": [
                {
                    "data": {
                        "text/plain": "(102, 3)"
                    },
                    "execution_count": 6,
                    "metadata": {},
                    "output_type": "execute_result"
                }
            ],
            "source": "df91.shape"
        },
        {
            "cell_type": "code",
            "execution_count": 7,
            "metadata": {
                "scrolled": true
            },
            "outputs": [
                {
                    "data": {
                        "text/html": "<div>\n<style scoped>\n    .dataframe tbody tr th:only-of-type {\n        vertical-align: middle;\n    }\n\n    .dataframe tbody tr th {\n        vertical-align: top;\n    }\n\n    .dataframe thead th {\n        text-align: right;\n    }\n</style>\n<table border=\"1\" class=\"dataframe\">\n  <thead>\n    <tr style=\"text-align: right;\">\n      <th></th>\n      <th>Postal Code</th>\n      <th>Latitude</th>\n      <th>Longitude</th>\n    </tr>\n  </thead>\n  <tbody>\n    <tr>\n      <th>0</th>\n      <td>M1B</td>\n      <td>43.806686</td>\n      <td>-79.194353</td>\n    </tr>\n    <tr>\n      <th>1</th>\n      <td>M1C</td>\n      <td>43.784535</td>\n      <td>-79.160497</td>\n    </tr>\n    <tr>\n      <th>2</th>\n      <td>M1E</td>\n      <td>43.763573</td>\n      <td>-79.188711</td>\n    </tr>\n    <tr>\n      <th>3</th>\n      <td>M1G</td>\n      <td>43.770992</td>\n      <td>-79.216917</td>\n    </tr>\n    <tr>\n      <th>4</th>\n      <td>M1H</td>\n      <td>43.773136</td>\n      <td>-79.239476</td>\n    </tr>\n  </tbody>\n</table>\n</div>",
                        "text/plain": "  Postal Code   Latitude  Longitude\n0         M1B  43.806686 -79.194353\n1         M1C  43.784535 -79.160497\n2         M1E  43.763573 -79.188711\n3         M1G  43.770992 -79.216917\n4         M1H  43.773136 -79.239476"
                    },
                    "execution_count": 7,
                    "metadata": {},
                    "output_type": "execute_result"
                }
            ],
            "source": "dfgeo.head()"
        },
        {
            "cell_type": "code",
            "execution_count": 8,
            "metadata": {
                "scrolled": true
            },
            "outputs": [
                {
                    "data": {
                        "text/html": "<div>\n<style scoped>\n    .dataframe tbody tr th:only-of-type {\n        vertical-align: middle;\n    }\n\n    .dataframe tbody tr th {\n        vertical-align: top;\n    }\n\n    .dataframe thead th {\n        text-align: right;\n    }\n</style>\n<table border=\"1\" class=\"dataframe\">\n  <thead>\n    <tr style=\"text-align: right;\">\n      <th></th>\n      <th>Postal Code</th>\n      <th>Borough</th>\n      <th>Neighbourhood</th>\n    </tr>\n  </thead>\n  <tbody>\n    <tr>\n      <th>0</th>\n      <td>M3A</td>\n      <td>North York</td>\n      <td>Parkwoods</td>\n    </tr>\n    <tr>\n      <th>1</th>\n      <td>M4A</td>\n      <td>North York</td>\n      <td>Victoria Village</td>\n    </tr>\n    <tr>\n      <th>2</th>\n      <td>M5A</td>\n      <td>Downtown Toronto</td>\n      <td>Regent Park</td>\n    </tr>\n    <tr>\n      <th>3</th>\n      <td>M6A</td>\n      <td>North York</td>\n      <td>Lawrence Manor</td>\n    </tr>\n    <tr>\n      <th>4</th>\n      <td>M7A</td>\n      <td>Downtown Toronto</td>\n      <td>Queen's Park</td>\n    </tr>\n  </tbody>\n</table>\n</div>",
                        "text/plain": "  Postal Code            Borough      Neighbourhood\n0         M3A         North York          Parkwoods\n1         M4A         North York   Victoria Village\n2         M5A   Downtown Toronto        Regent Park\n3         M6A         North York     Lawrence Manor\n4         M7A   Downtown Toronto       Queen's Park"
                    },
                    "execution_count": 8,
                    "metadata": {},
                    "output_type": "execute_result"
                }
            ],
            "source": "df91.head()"
        },
        {
            "cell_type": "code",
            "execution_count": 9,
            "metadata": {},
            "outputs": [],
            "source": "df91['Latitude'] = 'default value'\ndf91['Longitude'] = 'default value'"
        },
        {
            "cell_type": "code",
            "execution_count": 10,
            "metadata": {},
            "outputs": [],
            "source": "\nfor i in range(len(dfgeo)):\n    for j in range(len(df91)):\n        if df91.iloc[j,0]==dfgeo.iloc[i,0]:\n            df91.iloc[j,3]=dfgeo.iloc[i,1]\n            df91.iloc[j,4]=dfgeo.iloc[i,2]"
        },
        {
            "cell_type": "code",
            "execution_count": 11,
            "metadata": {},
            "outputs": [
                {
                    "data": {
                        "text/html": "<div>\n<style scoped>\n    .dataframe tbody tr th:only-of-type {\n        vertical-align: middle;\n    }\n\n    .dataframe tbody tr th {\n        vertical-align: top;\n    }\n\n    .dataframe thead th {\n        text-align: right;\n    }\n</style>\n<table border=\"1\" class=\"dataframe\">\n  <thead>\n    <tr style=\"text-align: right;\">\n      <th></th>\n      <th>Postal Code</th>\n      <th>Borough</th>\n      <th>Neighbourhood</th>\n      <th>Latitude</th>\n      <th>Longitude</th>\n    </tr>\n  </thead>\n  <tbody>\n    <tr>\n      <th>0</th>\n      <td>M3A</td>\n      <td>North York</td>\n      <td>Parkwoods</td>\n      <td>43.7533</td>\n      <td>-79.3297</td>\n    </tr>\n    <tr>\n      <th>1</th>\n      <td>M4A</td>\n      <td>North York</td>\n      <td>Victoria Village</td>\n      <td>43.7259</td>\n      <td>-79.3156</td>\n    </tr>\n    <tr>\n      <th>2</th>\n      <td>M5A</td>\n      <td>Downtown Toronto</td>\n      <td>Regent Park</td>\n      <td>43.6543</td>\n      <td>-79.3606</td>\n    </tr>\n    <tr>\n      <th>3</th>\n      <td>M6A</td>\n      <td>North York</td>\n      <td>Lawrence Manor</td>\n      <td>43.7185</td>\n      <td>-79.4648</td>\n    </tr>\n    <tr>\n      <th>4</th>\n      <td>M7A</td>\n      <td>Downtown Toronto</td>\n      <td>Queen's Park</td>\n      <td>43.6623</td>\n      <td>-79.3895</td>\n    </tr>\n    <tr>\n      <th>5</th>\n      <td>M9A</td>\n      <td>Etobicoke</td>\n      <td>Islington Avenue</td>\n      <td>43.6679</td>\n      <td>-79.5322</td>\n    </tr>\n    <tr>\n      <th>6</th>\n      <td>M1B</td>\n      <td>Scarborough</td>\n      <td>Malvern</td>\n      <td>43.8067</td>\n      <td>-79.1944</td>\n    </tr>\n    <tr>\n      <th>7</th>\n      <td>M3B</td>\n      <td>North York</td>\n      <td>Don Mills</td>\n      <td>43.7459</td>\n      <td>-79.3522</td>\n    </tr>\n    <tr>\n      <th>8</th>\n      <td>M4B</td>\n      <td>East York</td>\n      <td>Parkview Hill</td>\n      <td>43.7064</td>\n      <td>-79.3099</td>\n    </tr>\n    <tr>\n      <th>9</th>\n      <td>M5B</td>\n      <td>Downtown Toronto</td>\n      <td>Garden District</td>\n      <td>43.6572</td>\n      <td>-79.3789</td>\n    </tr>\n  </tbody>\n</table>\n</div>",
                        "text/plain": "  Postal Code            Borough      Neighbourhood Latitude Longitude\n0         M3A         North York          Parkwoods  43.7533  -79.3297\n1         M4A         North York   Victoria Village  43.7259  -79.3156\n2         M5A   Downtown Toronto        Regent Park  43.6543  -79.3606\n3         M6A         North York     Lawrence Manor  43.7185  -79.4648\n4         M7A   Downtown Toronto       Queen's Park  43.6623  -79.3895\n5         M9A          Etobicoke   Islington Avenue  43.6679  -79.5322\n6         M1B        Scarborough            Malvern  43.8067  -79.1944\n7         M3B         North York          Don Mills  43.7459  -79.3522\n8         M4B          East York      Parkview Hill  43.7064  -79.3099\n9         M5B   Downtown Toronto    Garden District  43.6572  -79.3789"
                    },
                    "execution_count": 11,
                    "metadata": {},
                    "output_type": "execute_result"
                }
            ],
            "source": "df91.head(10)"
        },
        {
            "cell_type": "code",
            "execution_count": null,
            "metadata": {},
            "outputs": [],
            "source": ""
        }
    ],
    "metadata": {
        "kernelspec": {
            "display_name": "Python 3.6",
            "language": "python",
            "name": "python3"
        },
        "language_info": {
            "codemirror_mode": {
                "name": "ipython",
                "version": 3
            },
            "file_extension": ".py",
            "mimetype": "text/x-python",
            "name": "python",
            "nbconvert_exporter": "python",
            "pygments_lexer": "ipython3",
            "version": "3.6.9"
        }
    },
    "nbformat": 4,
    "nbformat_minor": 1
}